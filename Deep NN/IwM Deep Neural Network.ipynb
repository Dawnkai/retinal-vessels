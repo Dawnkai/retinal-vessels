{
 "cells": [
  {
   "cell_type": "markdown",
   "id": "a7fad53c",
   "metadata": {},
   "source": [
    "# Głębokie Sieci Neuronowe"
   ]
  },
  {
   "cell_type": "markdown",
   "id": "73dac935",
   "metadata": {},
   "source": [
    "### 1. Wymagane biblioteki"
   ]
  },
  {
   "cell_type": "code",
   "execution_count": 51,
   "id": "5de94509",
   "metadata": {},
   "outputs": [],
   "source": [
    "import os # Określanie lokacji plików\n",
    "import numpy as np # Operacje na macierzach\n",
    "import cv2 # Wczytywanie obrazów\n",
    "import torch # PyTorch\n",
    "import torch.nn as nn # Sieci neuronowe\n",
    "import torch.nn.functional as F # Do specyfikacji funkcji\n",
    "import random # Losowanie liczb\n",
    "import time # Uzyskiwanie obecnego czasu\n",
    "from albumentations import HorizontalFlip, VerticalFlip, Rotate # Morfologia obrazów\n",
    "from torch.utils.data import Dataset # Zbiór danych do uczenia i trenowania\n",
    "from torch.utils.data import DataLoader # Uzyskiwanie obrazu w danej epoce\n",
    "from sklearn.metrics import accuracy_score, f1_score, jaccard_score, precision_score, recall_score # Wskaźniki jakości modelu\n",
    "from operator import add # Łączenie zdjęć\n",
    "import matplotlib.pyplot as plt # Wyświetlanie obrazów\n",
    "from tqdm.notebook import tqdm # Pasek postępu\n",
    "from sklearn.metrics import confusion_matrix, ConfusionMatrixDisplay # Macierz pomyłek\n",
    "import math # Operacje matematyczne\n",
    "\n",
    "# Obrazy treningowe\n",
    "train_img_path = os.path.abspath('train/images')\n",
    "train_mask_path = os.path.abspath('train/ground_truth')\n",
    "\n",
    "# Obrazy walidacyjne\n",
    "validation_img_path = os.path.abspath('validate/images')\n",
    "validation_mask_path = os.path.abspath('validate/ground_truth')\n",
    "\n",
    "# Obrazy testowe\n",
    "test_img_path = os.path.abspath('test/images')\n",
    "test_mask_path = os.path.abspath('test/ground_truth')\n",
    "\n",
    "# Lokacje zdjęć po augumentacji (zmianie rozmiaru, rotacji, itd)\n",
    "train_augumented_path = os.path.abspath('train/augumented_images')\n",
    "validation_augumented_path = os.path.abspath('validate/augumented_images')\n",
    "\n",
    "# Tutaj zostaną zapisane wyniki detekcji modelem siecii\n",
    "results_path = os.path.abspath('results')\n",
    "\n",
    "# Tutaj zostanie zapisany model w trakcie uczenia\n",
    "model_output = os.path.abspath('model')"
   ]
  },
  {
   "cell_type": "markdown",
   "id": "45ded5cf",
   "metadata": {},
   "source": [
    "### 2. Sieć UNET"
   ]
  },
  {
   "cell_type": "markdown",
   "id": "40c84b54",
   "metadata": {},
   "source": [
    "![alt text](u-net-architecture.png \"Sieć UNET\")"
   ]
  },
  {
   "cell_type": "code",
   "execution_count": 2,
   "id": "f0c7e856",
   "metadata": {},
   "outputs": [],
   "source": [
    "class ConvolutionBlock(nn.Module):\n",
    "    '''\n",
    "    Fragment oznaczony jako \"input image tile\". Wykonuje się na nim konwolucję z funkcją aktywacjyjną ReLU oraz\n",
    "    normalizacjcę za pomocą BatchNorm2d.\n",
    "    '''\n",
    "    \n",
    "    def __init__(self, input_size, output_size):\n",
    "        super().__init__()\n",
    "        # Warstwy konwolucyjne 3x3\n",
    "        self.conv_layer1 = nn.Conv2d(input_size, output_size, kernel_size=3, padding=1)\n",
    "        self.conv_layer2 = nn.Conv2d(output_size, output_size, kernel_size=3, padding=1)\n",
    "        \n",
    "        # Warstwy normalizacyjne\n",
    "        self.norm_layer1 = nn.BatchNorm2d(output_size)\n",
    "        self.norm_layer2 = nn.BatchNorm2d(output_size)\n",
    "        \n",
    "        # Funkcja aktywacyjna ReLU\n",
    "        self.relu = nn.ReLU()\n",
    "    \n",
    "    # Funkcja przekazująca dane przez warstwy\n",
    "    def forward(self, inputs):\n",
    "        x = self.conv_layer1(inputs)\n",
    "        x = self.norm_layer1(x)\n",
    "        x = self.relu(x)\n",
    "        \n",
    "        x = self.conv_layer2(x)\n",
    "        x = self.norm_layer2(x)\n",
    "        x = self.relu(x)\n",
    "        \n",
    "        return x"
   ]
  },
  {
   "cell_type": "code",
   "execution_count": 3,
   "id": "afb1788e",
   "metadata": {},
   "outputs": [],
   "source": [
    "class PoolingBlock(nn.Module):\n",
    "    '''\n",
    "    Fragment przekazujący wynik konwolucji niżej (oznaczony na rysunku przez czerwoną strzałkę) w celu \n",
    "    dalszego zmniejszania obrazu.\n",
    "    '''\n",
    "    \n",
    "    def __init__(self, input_size, output_size):\n",
    "        super().__init__()\n",
    "        self.conv_block = ConvolutionBlock(input_size, output_size)\n",
    "        self.pool = nn.MaxPool2d((2, 2))\n",
    "    \n",
    "    # Funkcja przekazująca dane przez warstwy\n",
    "    def forward(self, inputs):\n",
    "        x = self.conv_block(inputs)\n",
    "        p = self.pool(x)\n",
    "        \n",
    "        return x, p"
   ]
  },
  {
   "cell_type": "code",
   "execution_count": 4,
   "id": "bd530a98",
   "metadata": {},
   "outputs": [],
   "source": [
    "class ExpansiveBlock(nn.Module):\n",
    "    '''\n",
    "    Fragment powiększający obraz do oryginalnej wielkości (oznaczony na rysunku przez zieloną strzałkę).\n",
    "    '''\n",
    "    def __init__(self, input_size, output_size):\n",
    "        super().__init__()\n",
    "        self.d = nn.ConvTranspose2d(input_size, output_size, kernel_size=2, stride=2, padding=0)\n",
    "        self.conv_block = ConvolutionBlock(output_size + output_size, output_size)\n",
    "    \n",
    "    def forward(self, inputs, skip):\n",
    "        x = self.d(inputs)\n",
    "        x = torch.cat([x, skip], axis=1)\n",
    "        x = self.conv_block(x)\n",
    "        return x"
   ]
  },
  {
   "cell_type": "code",
   "execution_count": 5,
   "id": "2f8b559c",
   "metadata": {},
   "outputs": [],
   "source": [
    "class UNET(nn.Module):\n",
    "    '''\n",
    "    Cała sieć UNET do uczenia maszynowego. Skonstruowana zgodnie z obrazem.\n",
    "    '''\n",
    "    def __init__(self):\n",
    "        super().__init__()\n",
    "        self.pool_layer1 = PoolingBlock(3, 64)\n",
    "        self.pool_layer2 = PoolingBlock(64, 128)\n",
    "        self.pool_layer3 = PoolingBlock(128, 256)\n",
    "        self.pool_layer4 = PoolingBlock(256, 512)\n",
    "        \n",
    "        self.conv_layer = ConvolutionBlock(512, 1024)\n",
    "        \n",
    "        self.exp_layer1 = ExpansiveBlock(1024, 512)\n",
    "        self.exp_layer2 = ExpansiveBlock(512, 256)\n",
    "        self.exp_layer3 = ExpansiveBlock(256, 128)\n",
    "        self.exp_layer4 = ExpansiveBlock(128, 64)\n",
    "        \n",
    "        # Warstwa końcowa, z powiększonym obrazem\n",
    "        self.output = nn.Conv2d(64, 1, kernel_size=1, padding=0)\n",
    "    \n",
    "    # Praca sieci\n",
    "    def forward(self, inputs):\n",
    "        f1, p1 = self.pool_layer1(inputs)\n",
    "        f2, p2 = self.pool_layer2(p1)\n",
    "        f3, p3 = self.pool_layer3(p2)\n",
    "        f4, p4 = self.pool_layer4(p3)\n",
    "        \n",
    "        b = self.conv_layer(p4)\n",
    "        \n",
    "        d1 = self.exp_layer1(b, f4)\n",
    "        d2 = self.exp_layer2(d1, f3)\n",
    "        d3 = self.exp_layer3(d2, f2)\n",
    "        d4 = self.exp_layer4(d3, f1)\n",
    "        \n",
    "        output = self.output(d4)\n",
    "        \n",
    "        return output"
   ]
  },
  {
   "cell_type": "markdown",
   "id": "50f77e58",
   "metadata": {},
   "source": [
    "### 3. Augumentacja obrazu"
   ]
  },
  {
   "cell_type": "code",
   "execution_count": 17,
   "id": "318638c8",
   "metadata": {},
   "outputs": [],
   "source": [
    "def augument_data(img_path, mask_path, output_path, img_size = (512, 512), augument = True):\n",
    "    \"\"\"\n",
    "    Augumentacja obrazu.\n",
    "    :param img_path: - ścieżka do zdjęć na których należy wykonać augumentację\n",
    "    :param mask_path: - ścieżka do mask eksperckich zdjęć z zaznaczonymi żyłami\n",
    "    :param img_size: - docelowy rozmiar obrazów po augumentacji\n",
    "    :param augument: - czy dokonać morfologii obrazów, czy ograniczyć się tylko do zmiany rozmiaru\n",
    "    \"\"\"\n",
    "    # Do wyświetlania postępu augumentacji\n",
    "    num_images = len(os.listdir(img_path))\n",
    "    for idx, image in enumerate(os.listdir(img_path)):\n",
    "        print(f\"Augumenting: {idx} / {num_images}...\")\n",
    "        \n",
    "        # Wczytywanie obrazów do augumentacji\n",
    "        img = cv2.imread(img_path + '/' + image, cv2.IMREAD_COLOR)\n",
    "        mask = cv2.imread(mask_path + '/' + image.split('.')[0] + '.tif', cv2.IMREAD_GRAYSCALE)\n",
    "        \n",
    "        if augument:\n",
    "            # Odbicie poziome\n",
    "            h_flip = HorizontalFlip(p=1.0)\n",
    "            result1 = h_flip(image=img, mask=mask)\n",
    "            \n",
    "            # Odbicie pionowe\n",
    "            v_flip = VerticalFlip(p=1.0)\n",
    "            result2 = v_flip(image=img, mask=mask)\n",
    "            \n",
    "            # Rotacja\n",
    "            rotate = Rotate(limit=45, p=1.0)\n",
    "            result3 = rotate(image=img, mask=mask)\n",
    "\n",
    "            # Zmiana rozmiaru tak, aby obraz pasował do rozmiaru warstw w siecii\n",
    "            aug_img = cv2.resize(img, img_size)\n",
    "            # Ekstrakcja obrazów do trenowania\n",
    "            hflip_img = cv2.resize(result1[\"image\"], img_size)\n",
    "            vflip_img = cv2.resize(result2[\"image\"], img_size)\n",
    "            rotated_img = cv2.resize(result3[\"image\"], img_size)\n",
    "            # Zapisywanie obrazów\n",
    "            cv2.imwrite(output_path + '/images/' + image, aug_img)\n",
    "            cv2.imwrite(output_path + '/images/' + image.split('.')[0] + '_hflip.jpg', hflip_img)\n",
    "            cv2.imwrite(output_path + '/images/' + image.split('.')[0] + '_vflip.jpg', vflip_img)\n",
    "            cv2.imwrite(output_path + '/images/' + image.split('.')[0] + '_rotated.jpg', rotated_img)\n",
    "\n",
    "            # Augumentacja maski w taki sam sposób jak obrazów\n",
    "            aug_mask = cv2.resize(mask, img_size)\n",
    "            hflip_mask = cv2.resize(result1[\"mask\"], img_size)\n",
    "            vflip_mask = cv2.resize(result2[\"mask\"], img_size)\n",
    "            rotated_mask = cv2.resize(result3[\"mask\"], img_size)\n",
    "            cv2.imwrite(output_path + '/ground_truth/' + image.split('.')[0] + '.tif', aug_mask)\n",
    "            cv2.imwrite(output_path + '/ground_truth/' + image.split('.')[0] + '_hflip.tif', hflip_mask)\n",
    "            cv2.imwrite(output_path + '/ground_truth/' + image.split('.')[0] + '_vflip.tif', vflip_mask)\n",
    "            cv2.imwrite(output_path + '/ground_truth/' + image.split('.')[0] + '_rotated.tif', rotated_mask)\n",
    "            \n",
    "\n",
    "        else:\n",
    "            augumented_image = cv2.resize(img, img_size)\n",
    "            augumented_mask = cv2.resize(mask, img_size)\n",
    "            cv2.imwrite(output_path + '/images/' + image, augumented_image)\n",
    "            cv2.imwrite(output_path + '/ground_truth/' + image.split('.')[0] + '.tif', augumented_mask)\n",
    "\n",
    "    return mask"
   ]
  },
  {
   "cell_type": "markdown",
   "id": "d567e32e",
   "metadata": {},
   "source": [
    "### 4. Model DICE"
   ]
  },
  {
   "cell_type": "code",
   "execution_count": 9,
   "id": "7dae7d67",
   "metadata": {},
   "outputs": [],
   "source": [
    "# https://www.kaggle.com/code/bigironsphere/loss-function-library-keras-pytorch?scriptVersionId=68471013&cellId=6\n",
    "# Funkcja błędu typu Dice Loss\n",
    "class DiceBCELoss(nn.Module):\n",
    "    def __init__(self, weight=None, size_average=True):\n",
    "        super(DiceBCELoss, self).__init__()\n",
    "\n",
    "    def forward(self, inputs, targets, smooth=1):\n",
    "        inputs = torch.sigmoid(inputs)\n",
    "\n",
    "        inputs = inputs.view(-1)\n",
    "        targets = targets.view(-1)\n",
    "\n",
    "        intersection = (inputs * targets).sum()\n",
    "        dice_loss = 1 - (2.*intersection + smooth)/(inputs.sum() + targets.sum() + smooth)\n",
    "        BCE = F.binary_cross_entropy(inputs, targets, reduction='mean')\n",
    "        Dice_BCE = BCE + dice_loss\n",
    "\n",
    "        return Dice_BCE"
   ]
  },
  {
   "cell_type": "markdown",
   "id": "36b3ec72",
   "metadata": {},
   "source": [
    "Model **BCE-Dice Loss** korzysta ze wzoru:\n",
    "\n",
    "$J(w) = -\\frac{1}{N} \\sum_{n-1}^N [ y_n \\text{log} \\hat{y}_n + (1 - y_n) \\text{log} (1 - \\hat{y}_n) ]$"
   ]
  },
  {
   "cell_type": "code",
   "execution_count": 10,
   "id": "9cdfadcf",
   "metadata": {},
   "outputs": [],
   "source": [
    "def srand(seed):\n",
    "    '''\n",
    "    Ustawianie losowych liczb.\n",
    "    :seed: - zmienna na podstawie której ustala się podstawę liczb losowych\n",
    "    '''\n",
    "    random.seed(seed)\n",
    "    os.environ[\"PYTHONHASHSEED\"] = str(seed)\n",
    "    np.random.seed(seed)\n",
    "    # Przekaż seed do PyTorch\n",
    "    torch.manual_seed(seed)\n",
    "    torch.cuda.manual_seed(seed)\n",
    "    torch.backends.cudnn.deterministic = True\n",
    "    \n",
    "def get_epoch(start_time, end_time):\n",
    "    '''\n",
    "    Uzyskiwanie czasu, który upłynął między dwoma punktami w czasie.\n",
    "    Do ustalania czasu trwania epoki.\n",
    "    '''\n",
    "    elapsed_time = end_time - start_time\n",
    "    elapsed_mins = int(elapsed_time / 60)\n",
    "    elapsed_secs = int(elapsed_time - (elapsed_mins * 60))\n",
    "    return elapsed_mins, elapsed_secs"
   ]
  },
  {
   "cell_type": "markdown",
   "id": "850f9fbe",
   "metadata": {},
   "source": [
    "### 5. Trenowanie sieci\n",
    "\n",
    "##### 1. Wczytywanie danych"
   ]
  },
  {
   "cell_type": "code",
   "execution_count": 18,
   "id": "c5b12664",
   "metadata": {
    "scrolled": true
   },
   "outputs": [
    {
     "name": "stdout",
     "output_type": "stream",
     "text": [
      "Augumenting: 0 / 30...\n",
      "Augumenting: 1 / 30...\n",
      "Augumenting: 2 / 30...\n",
      "Augumenting: 3 / 30...\n",
      "Augumenting: 4 / 30...\n",
      "Augumenting: 5 / 30...\n",
      "Augumenting: 6 / 30...\n",
      "Augumenting: 7 / 30...\n",
      "Augumenting: 8 / 30...\n",
      "Augumenting: 9 / 30...\n",
      "Augumenting: 10 / 30...\n",
      "Augumenting: 11 / 30...\n",
      "Augumenting: 12 / 30...\n",
      "Augumenting: 13 / 30...\n",
      "Augumenting: 14 / 30...\n",
      "Augumenting: 15 / 30...\n",
      "Augumenting: 16 / 30...\n",
      "Augumenting: 17 / 30...\n",
      "Augumenting: 18 / 30...\n",
      "Augumenting: 19 / 30...\n",
      "Augumenting: 20 / 30...\n",
      "Augumenting: 21 / 30...\n",
      "Augumenting: 22 / 30...\n",
      "Augumenting: 23 / 30...\n",
      "Augumenting: 24 / 30...\n",
      "Augumenting: 25 / 30...\n",
      "Augumenting: 26 / 30...\n",
      "Augumenting: 27 / 30...\n",
      "Augumenting: 28 / 30...\n",
      "Augumenting: 29 / 30...\n",
      "Augumenting: 0 / 10...\n",
      "Augumenting: 1 / 10...\n",
      "Augumenting: 2 / 10...\n",
      "Augumenting: 3 / 10...\n",
      "Augumenting: 4 / 10...\n",
      "Augumenting: 5 / 10...\n",
      "Augumenting: 6 / 10...\n",
      "Augumenting: 7 / 10...\n",
      "Augumenting: 8 / 10...\n",
      "Augumenting: 9 / 10...\n",
      "Dataset contains:\n",
      "120 training images\n",
      "10 validation images\n"
     ]
    }
   ],
   "source": [
    "augument_data(train_img_path, train_mask_path, train_augumented_path)\n",
    "augument_data(validation_img_path, validation_mask_path, validation_augumented_path, augument=False)\n",
    "srand(42)\n",
    "\n",
    "train_images = [f\"{train_augumented_path}/images/{image}\" for image in os.listdir(train_augumented_path + '/images')]\n",
    "train_masks = [f\"{train_augumented_path}/ground_truth/{mask}\" for mask in os.listdir(train_augumented_path + '/ground_truth')]\n",
    "validation_images = [f\"{validation_augumented_path}/images/{image}\" for image in os.listdir(validation_augumented_path + '/images')]\n",
    "validation_masks = [f\"{validation_augumented_path}/ground_truth/{mask}\" for mask in os.listdir(validation_augumented_path + '/ground_truth')]\n",
    "\n",
    "print(f\"Dataset contains:\\n{len(train_images)} training images\\n{len(validation_images)} validation images\")"
   ]
  },
  {
   "cell_type": "markdown",
   "id": "76cd174b",
   "metadata": {},
   "source": [
    "##### 2. Dataset"
   ]
  },
  {
   "cell_type": "code",
   "execution_count": 20,
   "id": "e3d8e021",
   "metadata": {},
   "outputs": [],
   "source": [
    "class ImageDataset(Dataset):\n",
    "    '''\n",
    "    Obiekt upraszczający wczytywanie danych do trenowania sieci. Wymagany przez Keras.\n",
    "    '''\n",
    "\n",
    "    def __init__(self, train_img_paths, train_mask_paths):\n",
    "        super().__init__()\n",
    "        self.train_img_paths = train_img_paths\n",
    "        self.train_mask_paths = train_mask_paths\n",
    "        self.num_samples = len(self.train_img_paths)\n",
    "    \n",
    "    def __getitem__(self, index):\n",
    "        image = cv2.imread(self.train_img_paths[index], cv2.IMREAD_COLOR)\n",
    "        # Normalizacja obrazu\n",
    "        image = image / 255.0\n",
    "        image = np.transpose(image, (2, 0, 1))\n",
    "        # Konwersja z wartości int na float (wymaga tego torch)\n",
    "        image = image.astype(np.float32)\n",
    "        image = torch.from_numpy(image)\n",
    "        \n",
    "        mask = cv2.imread(self.train_mask_paths[index], cv2.IMREAD_GRAYSCALE)\n",
    "        # Normalizacja obrazu\n",
    "        mask = mask / 255.0\n",
    "        # Rozszerzanie obrazu o dodatkowy wymiar (kanału)\n",
    "        mask = np.expand_dims(mask, axis=0)\n",
    "        # Konwersja z wartości int na float (wymaga tego torch)\n",
    "        mask = mask.astype(np.float32)\n",
    "        mask = torch.from_numpy(mask)\n",
    "        \n",
    "        return image, mask\n",
    "    \n",
    "    def __len__(self):\n",
    "        return self.num_samples"
   ]
  },
  {
   "cell_type": "markdown",
   "id": "bccbf801",
   "metadata": {},
   "source": [
    "##### 3. Tworzenie modelu"
   ]
  },
  {
   "cell_type": "code",
   "execution_count": 21,
   "id": "4317f8a4",
   "metadata": {},
   "outputs": [],
   "source": [
    "# Docelowy rozmiar obrazu podawany do sieci\n",
    "img_size = (512, 512)\n",
    "# Ile obrazów na raz przetwarzać w sieci\n",
    "batch_size = 2\n",
    "# Ile epok ma trwać uczenie\n",
    "num_epochs = 50\n",
    "# Prędkość uczenia sieci\n",
    "learning_rate = 1e-4\n",
    "# Gdzie zapisywać model przy poprawie jakości modelu\n",
    "checkpoint_path = model_output + '/model.pth'\n",
    "\n",
    "# Zbiory danych\n",
    "train_dataset = ImageDataset(train_images, train_masks)\n",
    "validation_dataset = ImageDataset(validation_images, validation_masks)\n",
    "\n",
    "# Podział zbioru danych na podzbiory o rozmiarze batch_size\n",
    "train_loader = DataLoader(\n",
    "    dataset=train_dataset,\n",
    "    batch_size=batch_size,\n",
    "    shuffle=True,\n",
    "    num_workers=0\n",
    ")\n",
    "\n",
    "validation_loader = DataLoader(\n",
    "    dataset=validation_dataset,\n",
    "    batch_size=batch_size,\n",
    "    shuffle=False,\n",
    "    num_workers=0\n",
    ")\n",
    "\n",
    "# Tworzenie modelu\n",
    "device = torch.device('cuda')\n",
    "model = UNET()\n",
    "model = model.to(device)\n",
    "\n",
    "# Optimalizator Adam\n",
    "optimizer = torch.optim.Adam(model.parameters(), lr=learning_rate)\n",
    "# Zmniejszaj Learning Rate przy braku postępu w celu optymalizacji uczenia\n",
    "scheduler = torch.optim.lr_scheduler.ReduceLROnPlateau(optimizer, 'min', patience=5, verbose=True)\n",
    "# Funkcja błędu\n",
    "loss_function = DiceBCELoss()"
   ]
  },
  {
   "cell_type": "markdown",
   "id": "be553bc8",
   "metadata": {},
   "source": [
    "##### 4. Uczenie modelu"
   ]
  },
  {
   "cell_type": "code",
   "execution_count": 22,
   "id": "8fd73752",
   "metadata": {},
   "outputs": [],
   "source": [
    "def train(model, loader, optimizer, loss_function, device):\n",
    "    '''\n",
    "    Algorytm uczenia.\n",
    "    :param model: - model sieci\n",
    "    :param loader: - obiekt wczytujący dane uczące\n",
    "    :param optimizer: - optymalizator\n",
    "    :param loss_function: - funkcja obliczająca błąd, na podstawie którego wyznaczane są wagi\n",
    "    :param device: - urządzenie uczące (gpu lub cpu)\n",
    "    '''\n",
    "    epoch_loss = 0.0\n",
    "    model.train()\n",
    "    for img_tensor, mask_tensor in loader:\n",
    "        img_tensor = img_tensor.to(device, dtype=torch.float32)\n",
    "        mask_tensor = mask_tensor.to(device, dtype=torch.float32)\n",
    "        \n",
    "        optimizer.zero_grad()\n",
    "        prediction = model(img_tensor)\n",
    "        loss = loss_function(prediction, mask_tensor)\n",
    "        # Wsteczna propagacja\n",
    "        loss.backward()\n",
    "        optimizer.step()\n",
    "        \n",
    "        epoch_loss += loss.item()\n",
    "    \n",
    "    # Obliczanie średniego błędu\n",
    "    epoch_loss = epoch_loss / len(loader)\n",
    "    return epoch_loss"
   ]
  },
  {
   "cell_type": "code",
   "execution_count": 23,
   "id": "bf8a973c",
   "metadata": {},
   "outputs": [],
   "source": [
    "def evaluate(model, loader, loss_function, device):\n",
    "    '''\n",
    "    Ewaluacja jakości modelu na podstawie danych walidacyjnych.\n",
    "    :param model: - model do ewaluacji\n",
    "    :param loader: - obiekt wczytujący dane walidacyjne\n",
    "    :param loss_function: - funkcja błędu pomiaru\n",
    "    :param device: - urządzenie wykonujące walidację (gpu lub cpu)\n",
    "    '''\n",
    "    epoch_loss = 0.0\n",
    "\n",
    "    model.eval()\n",
    "    with torch.no_grad():\n",
    "        for img_tensor, mask_tensor in loader:\n",
    "            img_tensor = img_tensor.to(device, dtype=torch.float32)\n",
    "            mask_tensor = mask_tensor.to(device, dtype=torch.float32)\n",
    "\n",
    "            prediction = model(img_tensor)\n",
    "            loss = loss_function(prediction, mask_tensor)\n",
    "\n",
    "            epoch_loss += loss.item()\n",
    "\n",
    "        epoch_loss = epoch_loss/len(loader)\n",
    "    return epoch_loss"
   ]
  },
  {
   "cell_type": "code",
   "execution_count": 24,
   "id": "31ee5732",
   "metadata": {},
   "outputs": [
    {
     "name": "stdout",
     "output_type": "stream",
     "text": [
      "Validation loss reduced from inf to 1.086718702316284, saving model...\n",
      "Epoch: 01 | Epoch Time: 2m 39s\n",
      "\tTrain Loss: 1.156\n",
      "\t Val. Loss: 1.087\n",
      "\n"
     ]
    },
    {
     "ename": "KeyboardInterrupt",
     "evalue": "",
     "output_type": "error",
     "traceback": [
      "\u001b[1;31m---------------------------------------------------------------------------\u001b[0m",
      "\u001b[1;31mKeyboardInterrupt\u001b[0m                         Traceback (most recent call last)",
      "\u001b[1;32m~\\AppData\\Local\\Temp/ipykernel_7468/2803160927.py\u001b[0m in \u001b[0;36m<module>\u001b[1;34m\u001b[0m\n\u001b[0;32m      6\u001b[0m     \u001b[0mstart_time\u001b[0m \u001b[1;33m=\u001b[0m \u001b[0mtime\u001b[0m\u001b[1;33m.\u001b[0m\u001b[0mtime\u001b[0m\u001b[1;33m(\u001b[0m\u001b[1;33m)\u001b[0m\u001b[1;33m\u001b[0m\u001b[1;33m\u001b[0m\u001b[0m\n\u001b[0;32m      7\u001b[0m \u001b[1;33m\u001b[0m\u001b[0m\n\u001b[1;32m----> 8\u001b[1;33m     \u001b[0mtraining_loss\u001b[0m \u001b[1;33m=\u001b[0m \u001b[0mtrain\u001b[0m\u001b[1;33m(\u001b[0m\u001b[0mmodel\u001b[0m\u001b[1;33m,\u001b[0m \u001b[0mtrain_loader\u001b[0m\u001b[1;33m,\u001b[0m \u001b[0moptimizer\u001b[0m\u001b[1;33m,\u001b[0m \u001b[0mloss_function\u001b[0m\u001b[1;33m,\u001b[0m \u001b[0mdevice\u001b[0m\u001b[1;33m)\u001b[0m\u001b[1;33m\u001b[0m\u001b[1;33m\u001b[0m\u001b[0m\n\u001b[0m\u001b[0;32m      9\u001b[0m     \u001b[0mvalidation_loss\u001b[0m \u001b[1;33m=\u001b[0m \u001b[0mevaluate\u001b[0m\u001b[1;33m(\u001b[0m\u001b[0mmodel\u001b[0m\u001b[1;33m,\u001b[0m \u001b[0mvalidation_loader\u001b[0m\u001b[1;33m,\u001b[0m \u001b[0mloss_function\u001b[0m\u001b[1;33m,\u001b[0m \u001b[0mdevice\u001b[0m\u001b[1;33m)\u001b[0m\u001b[1;33m\u001b[0m\u001b[1;33m\u001b[0m\u001b[0m\n\u001b[0;32m     10\u001b[0m \u001b[1;33m\u001b[0m\u001b[0m\n",
      "\u001b[1;32m~\\AppData\\Local\\Temp/ipykernel_7468/1410686640.py\u001b[0m in \u001b[0;36mtrain\u001b[1;34m(model, loader, optimizer, loss_function, device)\u001b[0m\n\u001b[0;32m     10\u001b[0m     \u001b[0mepoch_loss\u001b[0m \u001b[1;33m=\u001b[0m \u001b[1;36m0.0\u001b[0m\u001b[1;33m\u001b[0m\u001b[1;33m\u001b[0m\u001b[0m\n\u001b[0;32m     11\u001b[0m     \u001b[0mmodel\u001b[0m\u001b[1;33m.\u001b[0m\u001b[0mtrain\u001b[0m\u001b[1;33m(\u001b[0m\u001b[1;33m)\u001b[0m\u001b[1;33m\u001b[0m\u001b[1;33m\u001b[0m\u001b[0m\n\u001b[1;32m---> 12\u001b[1;33m     \u001b[1;32mfor\u001b[0m \u001b[0mimg_tensor\u001b[0m\u001b[1;33m,\u001b[0m \u001b[0mmask_tensor\u001b[0m \u001b[1;32min\u001b[0m \u001b[0mloader\u001b[0m\u001b[1;33m:\u001b[0m\u001b[1;33m\u001b[0m\u001b[1;33m\u001b[0m\u001b[0m\n\u001b[0m\u001b[0;32m     13\u001b[0m         \u001b[0mimg_tensor\u001b[0m \u001b[1;33m=\u001b[0m \u001b[0mimg_tensor\u001b[0m\u001b[1;33m.\u001b[0m\u001b[0mto\u001b[0m\u001b[1;33m(\u001b[0m\u001b[0mdevice\u001b[0m\u001b[1;33m,\u001b[0m \u001b[0mdtype\u001b[0m\u001b[1;33m=\u001b[0m\u001b[0mtorch\u001b[0m\u001b[1;33m.\u001b[0m\u001b[0mfloat32\u001b[0m\u001b[1;33m)\u001b[0m\u001b[1;33m\u001b[0m\u001b[1;33m\u001b[0m\u001b[0m\n\u001b[0;32m     14\u001b[0m         \u001b[0mmask_tensor\u001b[0m \u001b[1;33m=\u001b[0m \u001b[0mmask_tensor\u001b[0m\u001b[1;33m.\u001b[0m\u001b[0mto\u001b[0m\u001b[1;33m(\u001b[0m\u001b[0mdevice\u001b[0m\u001b[1;33m,\u001b[0m \u001b[0mdtype\u001b[0m\u001b[1;33m=\u001b[0m\u001b[0mtorch\u001b[0m\u001b[1;33m.\u001b[0m\u001b[0mfloat32\u001b[0m\u001b[1;33m)\u001b[0m\u001b[1;33m\u001b[0m\u001b[1;33m\u001b[0m\u001b[0m\n",
      "\u001b[1;32mE:\\Users\\dawnw\\anaconda3\\lib\\site-packages\\torch\\utils\\data\\dataloader.py\u001b[0m in \u001b[0;36m__next__\u001b[1;34m(self)\u001b[0m\n\u001b[0;32m    519\u001b[0m             \u001b[1;32mif\u001b[0m \u001b[0mself\u001b[0m\u001b[1;33m.\u001b[0m\u001b[0m_sampler_iter\u001b[0m \u001b[1;32mis\u001b[0m \u001b[1;32mNone\u001b[0m\u001b[1;33m:\u001b[0m\u001b[1;33m\u001b[0m\u001b[1;33m\u001b[0m\u001b[0m\n\u001b[0;32m    520\u001b[0m                 \u001b[0mself\u001b[0m\u001b[1;33m.\u001b[0m\u001b[0m_reset\u001b[0m\u001b[1;33m(\u001b[0m\u001b[1;33m)\u001b[0m\u001b[1;33m\u001b[0m\u001b[1;33m\u001b[0m\u001b[0m\n\u001b[1;32m--> 521\u001b[1;33m             \u001b[0mdata\u001b[0m \u001b[1;33m=\u001b[0m \u001b[0mself\u001b[0m\u001b[1;33m.\u001b[0m\u001b[0m_next_data\u001b[0m\u001b[1;33m(\u001b[0m\u001b[1;33m)\u001b[0m\u001b[1;33m\u001b[0m\u001b[1;33m\u001b[0m\u001b[0m\n\u001b[0m\u001b[0;32m    522\u001b[0m             \u001b[0mself\u001b[0m\u001b[1;33m.\u001b[0m\u001b[0m_num_yielded\u001b[0m \u001b[1;33m+=\u001b[0m \u001b[1;36m1\u001b[0m\u001b[1;33m\u001b[0m\u001b[1;33m\u001b[0m\u001b[0m\n\u001b[0;32m    523\u001b[0m             \u001b[1;32mif\u001b[0m \u001b[0mself\u001b[0m\u001b[1;33m.\u001b[0m\u001b[0m_dataset_kind\u001b[0m \u001b[1;33m==\u001b[0m \u001b[0m_DatasetKind\u001b[0m\u001b[1;33m.\u001b[0m\u001b[0mIterable\u001b[0m \u001b[1;32mand\u001b[0m\u001b[0;31m \u001b[0m\u001b[0;31m\\\u001b[0m\u001b[1;33m\u001b[0m\u001b[1;33m\u001b[0m\u001b[0m\n",
      "\u001b[1;32mE:\\Users\\dawnw\\anaconda3\\lib\\site-packages\\torch\\utils\\data\\dataloader.py\u001b[0m in \u001b[0;36m_next_data\u001b[1;34m(self)\u001b[0m\n\u001b[0;32m    559\u001b[0m     \u001b[1;32mdef\u001b[0m \u001b[0m_next_data\u001b[0m\u001b[1;33m(\u001b[0m\u001b[0mself\u001b[0m\u001b[1;33m)\u001b[0m\u001b[1;33m:\u001b[0m\u001b[1;33m\u001b[0m\u001b[1;33m\u001b[0m\u001b[0m\n\u001b[0;32m    560\u001b[0m         \u001b[0mindex\u001b[0m \u001b[1;33m=\u001b[0m \u001b[0mself\u001b[0m\u001b[1;33m.\u001b[0m\u001b[0m_next_index\u001b[0m\u001b[1;33m(\u001b[0m\u001b[1;33m)\u001b[0m  \u001b[1;31m# may raise StopIteration\u001b[0m\u001b[1;33m\u001b[0m\u001b[1;33m\u001b[0m\u001b[0m\n\u001b[1;32m--> 561\u001b[1;33m         \u001b[0mdata\u001b[0m \u001b[1;33m=\u001b[0m \u001b[0mself\u001b[0m\u001b[1;33m.\u001b[0m\u001b[0m_dataset_fetcher\u001b[0m\u001b[1;33m.\u001b[0m\u001b[0mfetch\u001b[0m\u001b[1;33m(\u001b[0m\u001b[0mindex\u001b[0m\u001b[1;33m)\u001b[0m  \u001b[1;31m# may raise StopIteration\u001b[0m\u001b[1;33m\u001b[0m\u001b[1;33m\u001b[0m\u001b[0m\n\u001b[0m\u001b[0;32m    562\u001b[0m         \u001b[1;32mif\u001b[0m \u001b[0mself\u001b[0m\u001b[1;33m.\u001b[0m\u001b[0m_pin_memory\u001b[0m\u001b[1;33m:\u001b[0m\u001b[1;33m\u001b[0m\u001b[1;33m\u001b[0m\u001b[0m\n\u001b[0;32m    563\u001b[0m             \u001b[0mdata\u001b[0m \u001b[1;33m=\u001b[0m \u001b[0m_utils\u001b[0m\u001b[1;33m.\u001b[0m\u001b[0mpin_memory\u001b[0m\u001b[1;33m.\u001b[0m\u001b[0mpin_memory\u001b[0m\u001b[1;33m(\u001b[0m\u001b[0mdata\u001b[0m\u001b[1;33m)\u001b[0m\u001b[1;33m\u001b[0m\u001b[1;33m\u001b[0m\u001b[0m\n",
      "\u001b[1;32mE:\\Users\\dawnw\\anaconda3\\lib\\site-packages\\torch\\utils\\data\\_utils\\fetch.py\u001b[0m in \u001b[0;36mfetch\u001b[1;34m(self, possibly_batched_index)\u001b[0m\n\u001b[0;32m     50\u001b[0m         \u001b[1;32melse\u001b[0m\u001b[1;33m:\u001b[0m\u001b[1;33m\u001b[0m\u001b[1;33m\u001b[0m\u001b[0m\n\u001b[0;32m     51\u001b[0m             \u001b[0mdata\u001b[0m \u001b[1;33m=\u001b[0m \u001b[0mself\u001b[0m\u001b[1;33m.\u001b[0m\u001b[0mdataset\u001b[0m\u001b[1;33m[\u001b[0m\u001b[0mpossibly_batched_index\u001b[0m\u001b[1;33m]\u001b[0m\u001b[1;33m\u001b[0m\u001b[1;33m\u001b[0m\u001b[0m\n\u001b[1;32m---> 52\u001b[1;33m         \u001b[1;32mreturn\u001b[0m \u001b[0mself\u001b[0m\u001b[1;33m.\u001b[0m\u001b[0mcollate_fn\u001b[0m\u001b[1;33m(\u001b[0m\u001b[0mdata\u001b[0m\u001b[1;33m)\u001b[0m\u001b[1;33m\u001b[0m\u001b[1;33m\u001b[0m\u001b[0m\n\u001b[0m",
      "\u001b[1;32mE:\\Users\\dawnw\\anaconda3\\lib\\site-packages\\torch\\utils\\data\\_utils\\collate.py\u001b[0m in \u001b[0;36mdefault_collate\u001b[1;34m(batch)\u001b[0m\n\u001b[0;32m     82\u001b[0m             \u001b[1;32mraise\u001b[0m \u001b[0mRuntimeError\u001b[0m\u001b[1;33m(\u001b[0m\u001b[1;34m'each element in list of batch should be of equal size'\u001b[0m\u001b[1;33m)\u001b[0m\u001b[1;33m\u001b[0m\u001b[1;33m\u001b[0m\u001b[0m\n\u001b[0;32m     83\u001b[0m         \u001b[0mtransposed\u001b[0m \u001b[1;33m=\u001b[0m \u001b[0mzip\u001b[0m\u001b[1;33m(\u001b[0m\u001b[1;33m*\u001b[0m\u001b[0mbatch\u001b[0m\u001b[1;33m)\u001b[0m\u001b[1;33m\u001b[0m\u001b[1;33m\u001b[0m\u001b[0m\n\u001b[1;32m---> 84\u001b[1;33m         \u001b[1;32mreturn\u001b[0m \u001b[1;33m[\u001b[0m\u001b[0mdefault_collate\u001b[0m\u001b[1;33m(\u001b[0m\u001b[0msamples\u001b[0m\u001b[1;33m)\u001b[0m \u001b[1;32mfor\u001b[0m \u001b[0msamples\u001b[0m \u001b[1;32min\u001b[0m \u001b[0mtransposed\u001b[0m\u001b[1;33m]\u001b[0m\u001b[1;33m\u001b[0m\u001b[1;33m\u001b[0m\u001b[0m\n\u001b[0m\u001b[0;32m     85\u001b[0m \u001b[1;33m\u001b[0m\u001b[0m\n\u001b[0;32m     86\u001b[0m     \u001b[1;32mraise\u001b[0m \u001b[0mTypeError\u001b[0m\u001b[1;33m(\u001b[0m\u001b[0mdefault_collate_err_msg_format\u001b[0m\u001b[1;33m.\u001b[0m\u001b[0mformat\u001b[0m\u001b[1;33m(\u001b[0m\u001b[0melem_type\u001b[0m\u001b[1;33m)\u001b[0m\u001b[1;33m)\u001b[0m\u001b[1;33m\u001b[0m\u001b[1;33m\u001b[0m\u001b[0m\n",
      "\u001b[1;32mE:\\Users\\dawnw\\anaconda3\\lib\\site-packages\\torch\\utils\\data\\_utils\\collate.py\u001b[0m in \u001b[0;36m<listcomp>\u001b[1;34m(.0)\u001b[0m\n\u001b[0;32m     82\u001b[0m             \u001b[1;32mraise\u001b[0m \u001b[0mRuntimeError\u001b[0m\u001b[1;33m(\u001b[0m\u001b[1;34m'each element in list of batch should be of equal size'\u001b[0m\u001b[1;33m)\u001b[0m\u001b[1;33m\u001b[0m\u001b[1;33m\u001b[0m\u001b[0m\n\u001b[0;32m     83\u001b[0m         \u001b[0mtransposed\u001b[0m \u001b[1;33m=\u001b[0m \u001b[0mzip\u001b[0m\u001b[1;33m(\u001b[0m\u001b[1;33m*\u001b[0m\u001b[0mbatch\u001b[0m\u001b[1;33m)\u001b[0m\u001b[1;33m\u001b[0m\u001b[1;33m\u001b[0m\u001b[0m\n\u001b[1;32m---> 84\u001b[1;33m         \u001b[1;32mreturn\u001b[0m \u001b[1;33m[\u001b[0m\u001b[0mdefault_collate\u001b[0m\u001b[1;33m(\u001b[0m\u001b[0msamples\u001b[0m\u001b[1;33m)\u001b[0m \u001b[1;32mfor\u001b[0m \u001b[0msamples\u001b[0m \u001b[1;32min\u001b[0m \u001b[0mtransposed\u001b[0m\u001b[1;33m]\u001b[0m\u001b[1;33m\u001b[0m\u001b[1;33m\u001b[0m\u001b[0m\n\u001b[0m\u001b[0;32m     85\u001b[0m \u001b[1;33m\u001b[0m\u001b[0m\n\u001b[0;32m     86\u001b[0m     \u001b[1;32mraise\u001b[0m \u001b[0mTypeError\u001b[0m\u001b[1;33m(\u001b[0m\u001b[0mdefault_collate_err_msg_format\u001b[0m\u001b[1;33m.\u001b[0m\u001b[0mformat\u001b[0m\u001b[1;33m(\u001b[0m\u001b[0melem_type\u001b[0m\u001b[1;33m)\u001b[0m\u001b[1;33m)\u001b[0m\u001b[1;33m\u001b[0m\u001b[1;33m\u001b[0m\u001b[0m\n",
      "\u001b[1;32mE:\\Users\\dawnw\\anaconda3\\lib\\site-packages\\torch\\utils\\data\\_utils\\collate.py\u001b[0m in \u001b[0;36mdefault_collate\u001b[1;34m(batch)\u001b[0m\n\u001b[0;32m     54\u001b[0m             \u001b[0mstorage\u001b[0m \u001b[1;33m=\u001b[0m \u001b[0melem\u001b[0m\u001b[1;33m.\u001b[0m\u001b[0mstorage\u001b[0m\u001b[1;33m(\u001b[0m\u001b[1;33m)\u001b[0m\u001b[1;33m.\u001b[0m\u001b[0m_new_shared\u001b[0m\u001b[1;33m(\u001b[0m\u001b[0mnumel\u001b[0m\u001b[1;33m)\u001b[0m\u001b[1;33m\u001b[0m\u001b[1;33m\u001b[0m\u001b[0m\n\u001b[0;32m     55\u001b[0m             \u001b[0mout\u001b[0m \u001b[1;33m=\u001b[0m \u001b[0melem\u001b[0m\u001b[1;33m.\u001b[0m\u001b[0mnew\u001b[0m\u001b[1;33m(\u001b[0m\u001b[0mstorage\u001b[0m\u001b[1;33m)\u001b[0m\u001b[1;33m\u001b[0m\u001b[1;33m\u001b[0m\u001b[0m\n\u001b[1;32m---> 56\u001b[1;33m         \u001b[1;32mreturn\u001b[0m \u001b[0mtorch\u001b[0m\u001b[1;33m.\u001b[0m\u001b[0mstack\u001b[0m\u001b[1;33m(\u001b[0m\u001b[0mbatch\u001b[0m\u001b[1;33m,\u001b[0m \u001b[1;36m0\u001b[0m\u001b[1;33m,\u001b[0m \u001b[0mout\u001b[0m\u001b[1;33m=\u001b[0m\u001b[0mout\u001b[0m\u001b[1;33m)\u001b[0m\u001b[1;33m\u001b[0m\u001b[1;33m\u001b[0m\u001b[0m\n\u001b[0m\u001b[0;32m     57\u001b[0m     \u001b[1;32melif\u001b[0m \u001b[0melem_type\u001b[0m\u001b[1;33m.\u001b[0m\u001b[0m__module__\u001b[0m \u001b[1;33m==\u001b[0m \u001b[1;34m'numpy'\u001b[0m \u001b[1;32mand\u001b[0m \u001b[0melem_type\u001b[0m\u001b[1;33m.\u001b[0m\u001b[0m__name__\u001b[0m \u001b[1;33m!=\u001b[0m \u001b[1;34m'str_'\u001b[0m\u001b[0;31m \u001b[0m\u001b[0;31m\\\u001b[0m\u001b[1;33m\u001b[0m\u001b[1;33m\u001b[0m\u001b[0m\n\u001b[0;32m     58\u001b[0m             \u001b[1;32mand\u001b[0m \u001b[0melem_type\u001b[0m\u001b[1;33m.\u001b[0m\u001b[0m__name__\u001b[0m \u001b[1;33m!=\u001b[0m \u001b[1;34m'string_'\u001b[0m\u001b[1;33m:\u001b[0m\u001b[1;33m\u001b[0m\u001b[1;33m\u001b[0m\u001b[0m\n",
      "\u001b[1;31mKeyboardInterrupt\u001b[0m: "
     ]
    }
   ],
   "source": [
    "min_loss = float(\"inf\")\n",
    "# Zwalnianie danych w urządzeniu uczącym, zapobiega błędowi CUDA Out of Memory\n",
    "torch.cuda.empty_cache()\n",
    "\n",
    "for epoch in range(num_epochs):\n",
    "    start_time = time.time()\n",
    "\n",
    "    training_loss = train(model, train_loader, optimizer, loss_function, device)\n",
    "    validation_loss = evaluate(model, validation_loader, loss_function, device)\n",
    "    \n",
    "    # Zapisuj model jeżeli jego jakość się poprawi\n",
    "    if validation_loss < min_loss:\n",
    "        print(f\"Validation loss reduced from {min_loss} to {validation_loss}, saving model...\")\n",
    "        min_loss = validation_loss\n",
    "        torch.save(model.state_dict(), checkpoint_path)\n",
    "    \n",
    "    end_time = time.time()\n",
    "    \n",
    "    epoch_mins, epoch_secs = get_epoch(start_time, end_time)\n",
    "    \n",
    "    # Wypisz dane diagnostyczne\n",
    "    print(f'Epoch: {epoch+1:02} | Epoch Time: {epoch_mins}m {epoch_secs}s')\n",
    "    print(f'\\tTrain Loss: {training_loss:.3f}')\n",
    "    print(f'\\t Val. Loss: {validation_loss:.3f}\\n')"
   ]
  },
  {
   "cell_type": "markdown",
   "id": "279f5c3d",
   "metadata": {},
   "source": [
    "Ponieważ proces uczenia na komputerze lokalnym jest wolny, model został wyuczony na notatniku **Google Colab** i zapisany w folderze `model`."
   ]
  },
  {
   "cell_type": "markdown",
   "id": "b9f2239f",
   "metadata": {},
   "source": [
    "### 6. Testowanie sieci\n",
    "\n",
    "##### 1. Wczytywanie modelu"
   ]
  },
  {
   "cell_type": "code",
   "execution_count": 31,
   "id": "45d960d2",
   "metadata": {},
   "outputs": [
    {
     "data": {
      "text/plain": [
       "UNET(\n",
       "  (pool_layer1): PoolingBlock(\n",
       "    (conv_block): ConvolutionBlock(\n",
       "      (conv_layer1): Conv2d(3, 64, kernel_size=(3, 3), stride=(1, 1), padding=(1, 1))\n",
       "      (conv_layer2): Conv2d(64, 64, kernel_size=(3, 3), stride=(1, 1), padding=(1, 1))\n",
       "      (norm_layer1): BatchNorm2d(64, eps=1e-05, momentum=0.1, affine=True, track_running_stats=True)\n",
       "      (norm_layer2): BatchNorm2d(64, eps=1e-05, momentum=0.1, affine=True, track_running_stats=True)\n",
       "      (relu): ReLU()\n",
       "    )\n",
       "    (pool): MaxPool2d(kernel_size=(2, 2), stride=(2, 2), padding=0, dilation=1, ceil_mode=False)\n",
       "  )\n",
       "  (pool_layer2): PoolingBlock(\n",
       "    (conv_block): ConvolutionBlock(\n",
       "      (conv_layer1): Conv2d(64, 128, kernel_size=(3, 3), stride=(1, 1), padding=(1, 1))\n",
       "      (conv_layer2): Conv2d(128, 128, kernel_size=(3, 3), stride=(1, 1), padding=(1, 1))\n",
       "      (norm_layer1): BatchNorm2d(128, eps=1e-05, momentum=0.1, affine=True, track_running_stats=True)\n",
       "      (norm_layer2): BatchNorm2d(128, eps=1e-05, momentum=0.1, affine=True, track_running_stats=True)\n",
       "      (relu): ReLU()\n",
       "    )\n",
       "    (pool): MaxPool2d(kernel_size=(2, 2), stride=(2, 2), padding=0, dilation=1, ceil_mode=False)\n",
       "  )\n",
       "  (pool_layer3): PoolingBlock(\n",
       "    (conv_block): ConvolutionBlock(\n",
       "      (conv_layer1): Conv2d(128, 256, kernel_size=(3, 3), stride=(1, 1), padding=(1, 1))\n",
       "      (conv_layer2): Conv2d(256, 256, kernel_size=(3, 3), stride=(1, 1), padding=(1, 1))\n",
       "      (norm_layer1): BatchNorm2d(256, eps=1e-05, momentum=0.1, affine=True, track_running_stats=True)\n",
       "      (norm_layer2): BatchNorm2d(256, eps=1e-05, momentum=0.1, affine=True, track_running_stats=True)\n",
       "      (relu): ReLU()\n",
       "    )\n",
       "    (pool): MaxPool2d(kernel_size=(2, 2), stride=(2, 2), padding=0, dilation=1, ceil_mode=False)\n",
       "  )\n",
       "  (pool_layer4): PoolingBlock(\n",
       "    (conv_block): ConvolutionBlock(\n",
       "      (conv_layer1): Conv2d(256, 512, kernel_size=(3, 3), stride=(1, 1), padding=(1, 1))\n",
       "      (conv_layer2): Conv2d(512, 512, kernel_size=(3, 3), stride=(1, 1), padding=(1, 1))\n",
       "      (norm_layer1): BatchNorm2d(512, eps=1e-05, momentum=0.1, affine=True, track_running_stats=True)\n",
       "      (norm_layer2): BatchNorm2d(512, eps=1e-05, momentum=0.1, affine=True, track_running_stats=True)\n",
       "      (relu): ReLU()\n",
       "    )\n",
       "    (pool): MaxPool2d(kernel_size=(2, 2), stride=(2, 2), padding=0, dilation=1, ceil_mode=False)\n",
       "  )\n",
       "  (conv_layer): ConvolutionBlock(\n",
       "    (conv_layer1): Conv2d(512, 1024, kernel_size=(3, 3), stride=(1, 1), padding=(1, 1))\n",
       "    (conv_layer2): Conv2d(1024, 1024, kernel_size=(3, 3), stride=(1, 1), padding=(1, 1))\n",
       "    (norm_layer1): BatchNorm2d(1024, eps=1e-05, momentum=0.1, affine=True, track_running_stats=True)\n",
       "    (norm_layer2): BatchNorm2d(1024, eps=1e-05, momentum=0.1, affine=True, track_running_stats=True)\n",
       "    (relu): ReLU()\n",
       "  )\n",
       "  (exp_layer1): ExpansiveBlock(\n",
       "    (d): ConvTranspose2d(1024, 512, kernel_size=(2, 2), stride=(2, 2))\n",
       "    (conv_block): ConvolutionBlock(\n",
       "      (conv_layer1): Conv2d(1024, 512, kernel_size=(3, 3), stride=(1, 1), padding=(1, 1))\n",
       "      (conv_layer2): Conv2d(512, 512, kernel_size=(3, 3), stride=(1, 1), padding=(1, 1))\n",
       "      (norm_layer1): BatchNorm2d(512, eps=1e-05, momentum=0.1, affine=True, track_running_stats=True)\n",
       "      (norm_layer2): BatchNorm2d(512, eps=1e-05, momentum=0.1, affine=True, track_running_stats=True)\n",
       "      (relu): ReLU()\n",
       "    )\n",
       "  )\n",
       "  (exp_layer2): ExpansiveBlock(\n",
       "    (d): ConvTranspose2d(512, 256, kernel_size=(2, 2), stride=(2, 2))\n",
       "    (conv_block): ConvolutionBlock(\n",
       "      (conv_layer1): Conv2d(512, 256, kernel_size=(3, 3), stride=(1, 1), padding=(1, 1))\n",
       "      (conv_layer2): Conv2d(256, 256, kernel_size=(3, 3), stride=(1, 1), padding=(1, 1))\n",
       "      (norm_layer1): BatchNorm2d(256, eps=1e-05, momentum=0.1, affine=True, track_running_stats=True)\n",
       "      (norm_layer2): BatchNorm2d(256, eps=1e-05, momentum=0.1, affine=True, track_running_stats=True)\n",
       "      (relu): ReLU()\n",
       "    )\n",
       "  )\n",
       "  (exp_layer3): ExpansiveBlock(\n",
       "    (d): ConvTranspose2d(256, 128, kernel_size=(2, 2), stride=(2, 2))\n",
       "    (conv_block): ConvolutionBlock(\n",
       "      (conv_layer1): Conv2d(256, 128, kernel_size=(3, 3), stride=(1, 1), padding=(1, 1))\n",
       "      (conv_layer2): Conv2d(128, 128, kernel_size=(3, 3), stride=(1, 1), padding=(1, 1))\n",
       "      (norm_layer1): BatchNorm2d(128, eps=1e-05, momentum=0.1, affine=True, track_running_stats=True)\n",
       "      (norm_layer2): BatchNorm2d(128, eps=1e-05, momentum=0.1, affine=True, track_running_stats=True)\n",
       "      (relu): ReLU()\n",
       "    )\n",
       "  )\n",
       "  (exp_layer4): ExpansiveBlock(\n",
       "    (d): ConvTranspose2d(128, 64, kernel_size=(2, 2), stride=(2, 2))\n",
       "    (conv_block): ConvolutionBlock(\n",
       "      (conv_layer1): Conv2d(128, 64, kernel_size=(3, 3), stride=(1, 1), padding=(1, 1))\n",
       "      (conv_layer2): Conv2d(64, 64, kernel_size=(3, 3), stride=(1, 1), padding=(1, 1))\n",
       "      (norm_layer1): BatchNorm2d(64, eps=1e-05, momentum=0.1, affine=True, track_running_stats=True)\n",
       "      (norm_layer2): BatchNorm2d(64, eps=1e-05, momentum=0.1, affine=True, track_running_stats=True)\n",
       "      (relu): ReLU()\n",
       "    )\n",
       "  )\n",
       "  (output): Conv2d(64, 1, kernel_size=(1, 1), stride=(1, 1))\n",
       ")"
      ]
     },
     "execution_count": 31,
     "metadata": {},
     "output_type": "execute_result"
    }
   ],
   "source": [
    "srand(42)\n",
    "device = torch.device('cuda' if torch.cuda.is_available() else 'cpu')\n",
    "model = UNET()\n",
    "model = model.to(device)\n",
    "model.load_state_dict(torch.load(checkpoint_path, map_location=device))\n",
    "model.eval()"
   ]
  },
  {
   "cell_type": "markdown",
   "id": "c78fc1a8",
   "metadata": {},
   "source": [
    "##### 2. Predykcja"
   ]
  },
  {
   "cell_type": "code",
   "execution_count": 77,
   "id": "db29f82f",
   "metadata": {},
   "outputs": [],
   "source": [
    "test_images = [f\"{test_img_path}/{img}\" for img in os.listdir(test_img_path)]\n",
    "test_masks = [f\"{test_mask_path}/{mask}\" for mask in os.listdir(test_mask_path)]"
   ]
  },
  {
   "cell_type": "code",
   "execution_count": 87,
   "id": "371761a3",
   "metadata": {},
   "outputs": [],
   "source": [
    "def get_prediction(image_path, model, probability = 0.3):\n",
    "    image = cv2.imread(image_path, cv2.IMREAD_COLOR)\n",
    "    image = cv2.resize(image, img_size)\n",
    "    image = np.transpose(image, (2, 0, 1))\n",
    "    image = image / 255.0\n",
    "    image = np.expand_dims(image, axis=0)\n",
    "    image = image.astype(np.float32)\n",
    "    image = torch.from_numpy(image)\n",
    "    image = image.to(device)\n",
    "    \n",
    "    with torch.no_grad():\n",
    "        prediction = model(image)\n",
    "        prediction = torch.sigmoid(prediction)\n",
    "        prediction = prediction[0].cpu().numpy()\n",
    "        prediction = np.squeeze(prediction, axis=0)\n",
    "        prediction = prediction > probability\n",
    "        prediction = np.array(prediction, dtype=np.uint8)\n",
    "        \n",
    "    return prediction"
   ]
  },
  {
   "cell_type": "code",
   "execution_count": 104,
   "id": "e0e4f121",
   "metadata": {},
   "outputs": [
    {
     "data": {
      "text/plain": [
       "<matplotlib.image.AxesImage at 0x1f9ee0ea790>"
      ]
     },
     "execution_count": 104,
     "metadata": {},
     "output_type": "execute_result"
    },
    {
     "data": {
      "image/png": "[encoded data removed]",
      "text/plain": [
       "<Figure size 432x288 with 1 Axes>"
      ]
     },
     "metadata": {
      "needs_background": "light"
     },
     "output_type": "display_data"
    }
   ],
   "source": [
    "prediction = get_prediction(test_images[0], model, 0.43)\n",
    "plt.imshow(prediction, cmap=\"gray\")"
   ]
  },
  {
   "cell_type": "markdown",
   "id": "fedae6ae",
   "metadata": {},
   "source": [
    "### 7. Analiza statystyczna\n",
    "\n",
    "**Funkcje do analizy są przekopiowane z notatnika z morfologią (na 3.0).**"
   ]
  },
  {
   "cell_type": "code",
   "execution_count": 116,
   "id": "81fb67fe",
   "metadata": {},
   "outputs": [],
   "source": [
    "def get_confusion_matrix(data):\n",
    "    predictions, truth = data\n",
    "    true_positives = 0\n",
    "    false_positives = 0\n",
    "    true_negatives = 0\n",
    "    false_negatives = 0\n",
    "    print(\"Creating confusion matrix...\")\n",
    "    for idx, val in enumerate(tqdm(predictions)):\n",
    "        if val == truth[idx]:\n",
    "            if val == 1:\n",
    "                true_positives += 1\n",
    "            else:\n",
    "                true_negatives += 1\n",
    "        else:\n",
    "            if val == 1:\n",
    "                false_positives += 1\n",
    "            else:\n",
    "                false_negatives += 1\n",
    "\n",
    "    confusion_matrix = np.matrix([\n",
    "        [true_negatives, false_positives],\n",
    "        [false_negatives, true_positives]\n",
    "    ])\n",
    "    return confusion_matrix\n",
    "\n",
    "def get_analsyis_metrics(TP, TN, FP, FN):\n",
    "    # Accuracy = (TP + TN) / (TP + TN + FP + FN)\n",
    "    accuracy = (TP + TN) / (TP + TN + FP + FN)\n",
    "    # Sensitivity = TP / (TP + FN)\n",
    "    sensitivity = TP / (TP + FN)\n",
    "    # Specificity = TN / (TN + FP)\n",
    "    specificity = TN / (TN + FP)\n",
    "    # Balanced Accuracy = (Sensitivity + Specificity) / 2\n",
    "    balanced_accuracy = (sensitivity + specificity) / 2\n",
    "    # Geometric Accuracy = Sqrt(Sensitivity * Specificity)\n",
    "    geometric_accuracy = math.sqrt(sensitivity * specificity)\n",
    "    \n",
    "    return [accuracy, sensitivity, specificity, balanced_accuracy, geometric_accuracy]\n",
    "\n",
    "def print_analysis(img_path, mask_path, model, certainty):\n",
    "    prediction = get_prediction(img_path, model, certainty)\n",
    "    mask = cv2.imread(mask_path, cv2.IMREAD_GRAYSCALE)\n",
    "    data = [np.concatenate(prediction), np.concatenate(mask)]\n",
    "    mat = get_confusion_matrix(data)\n",
    "    disp = ConfusionMatrixDisplay(confusion_matrix=mat)\n",
    "    disp.plot()\n",
    "    plt.show()\n",
    "    metrics = get_analsyis_metrics(mat[1, 1], mat[0, 0], mat[0, 1], mat[1, 0])\n",
    "    print(f\"Trafność: {int(metrics[0] * 100)}%\")\n",
    "    print(f\"Czułość: {int(metrics[1] * 100)}%\")\n",
    "    print(f\"Swoistość: {int(metrics[2] * 100)}%\")\n",
    "    print(f\"Zrównoważona trafność (średnia arytmetyczna): {int(metrics[3] * 100)}%\")\n",
    "    print(f\"Zrównoważona trafność (średnia geometryczna): {int(metrics[4] * 100)}%\")"
   ]
  },
  {
   "cell_type": "code",
   "execution_count": 117,
   "id": "cc76b79b",
   "metadata": {},
   "outputs": [
    {
     "name": "stdout",
     "output_type": "stream",
     "text": [
      "Creating confusion matrix...\n"
     ]
    },
    {
     "data": {
      "application/vnd.jupyter.widget-view+json": {
       "model_id": "376a23b30d4941c89229a8ce4e54719d",
       "version_major": 2,
       "version_minor": 0
      },
      "text/plain": [
       "  0%|          | 0/262144 [00:00<?, ?it/s]"
      ]
     },
     "metadata": {},
     "output_type": "display_data"
    },
    {
     "data": {
      "image/png": "[encoded data removed]",
      "text/plain": [
       "<Figure size 432x288 with 2 Axes>"
      ]
     },
     "metadata": {
      "needs_background": "light"
     },
     "output_type": "display_data"
    },
    {
     "name": "stdout",
     "output_type": "stream",
     "text": [
      "Trafność: 86%\n",
      "Czułość: 0%\n",
      "Swoistość: 92%\n",
      "Zrównoważona trafność (średnia arytmetyczna): 46%\n",
      "Zrównoważona trafność (średnia geometryczna): 0%\n"
     ]
    }
   ],
   "source": [
    "print_analysis(test_images[0], test_masks[0], model, 0.5)"
   ]
  },
  {
   "cell_type": "code",
   "execution_count": 118,
   "id": "726eafe5",
   "metadata": {},
   "outputs": [
    {
     "name": "stdout",
     "output_type": "stream",
     "text": [
      "Creating confusion matrix...\n"
     ]
    },
    {
     "data": {
      "application/vnd.jupyter.widget-view+json": {
       "model_id": "0930a58bb5d5466ca6a9293b44687bb8",
       "version_major": 2,
       "version_minor": 0
      },
      "text/plain": [
       "  0%|          | 0/262144 [00:00<?, ?it/s]"
      ]
     },
     "metadata": {},
     "output_type": "display_data"
    },
    {
     "data": {
      "image/png": "[encoded data removed]",
      "text/plain": [
       "<Figure size 432x288 with 2 Axes>"
      ]
     },
     "metadata": {
      "needs_background": "light"
     },
     "output_type": "display_data"
    },
    {
     "name": "stdout",
     "output_type": "stream",
     "text": [
      "Trafność: 88%\n",
      "Czułość: 0%\n",
      "Swoistość: 92%\n",
      "Zrównoważona trafność (średnia arytmetyczna): 46%\n",
      "Zrównoważona trafność (średnia geometryczna): 0%\n"
     ]
    }
   ],
   "source": [
    "print_analysis(test_images[1], test_masks[1], model, 0.38)"
   ]
  },
  {
   "cell_type": "code",
   "execution_count": 122,
   "id": "b213673b",
   "metadata": {},
   "outputs": [
    {
     "name": "stdout",
     "output_type": "stream",
     "text": [
      "Creating confusion matrix...\n"
     ]
    },
    {
     "data": {
      "application/vnd.jupyter.widget-view+json": {
       "model_id": "e8eaacda41584340861e0f9bd94db1e7",
       "version_major": 2,
       "version_minor": 0
      },
      "text/plain": [
       "  0%|          | 0/262144 [00:00<?, ?it/s]"
      ]
     },
     "metadata": {},
     "output_type": "display_data"
    },
    {
     "data": {
      "image/png": "[encoded data removed]",
      "text/plain": [
       "<Figure size 432x288 with 2 Axes>"
      ]
     },
     "metadata": {
      "needs_background": "light"
     },
     "output_type": "display_data"
    },
    {
     "name": "stdout",
     "output_type": "stream",
     "text": [
      "Trafność: 84%\n",
      "Czułość: 0%\n",
      "Swoistość: 89%\n",
      "Zrównoważona trafność (średnia arytmetyczna): 44%\n",
      "Zrównoważona trafność (średnia geometryczna): 0%\n"
     ]
    }
   ],
   "source": [
    "print_analysis(test_images[2], test_masks[2], model, 0.43)"
   ]
  },
  {
   "cell_type": "code",
   "execution_count": 131,
   "id": "961b84f2",
   "metadata": {},
   "outputs": [
    {
     "name": "stdout",
     "output_type": "stream",
     "text": [
      "Creating confusion matrix...\n"
     ]
    },
    {
     "data": {
      "application/vnd.jupyter.widget-view+json": {
       "model_id": "f36b81acfd5a45b79e7ccc9415d8b2fe",
       "version_major": 2,
       "version_minor": 0
      },
      "text/plain": [
       "  0%|          | 0/262144 [00:00<?, ?it/s]"
      ]
     },
     "metadata": {},
     "output_type": "display_data"
    },
    {
     "data": {
      "image/png": "[encoded data removed]",
      "text/plain": [
       "<Figure size 432x288 with 2 Axes>"
      ]
     },
     "metadata": {
      "needs_background": "light"
     },
     "output_type": "display_data"
    },
    {
     "name": "stdout",
     "output_type": "stream",
     "text": [
      "Trafność: 90%\n",
      "Czułość: 0%\n",
      "Swoistość: 93%\n",
      "Zrównoważona trafność (średnia arytmetyczna): 46%\n",
      "Zrównoważona trafność (średnia geometryczna): 0%\n"
     ]
    }
   ],
   "source": [
    "print_analysis(test_images[3], test_masks[3], model, 0.36)"
   ]
  },
  {
   "cell_type": "code",
   "execution_count": 134,
   "id": "8d69f207",
   "metadata": {},
   "outputs": [
    {
     "name": "stdout",
     "output_type": "stream",
     "text": [
      "Creating confusion matrix...\n"
     ]
    },
    {
     "data": {
      "application/vnd.jupyter.widget-view+json": {
       "model_id": "e024741065b1439d9a5c22393f8cc12a",
       "version_major": 2,
       "version_minor": 0
      },
      "text/plain": [
       "  0%|          | 0/262144 [00:00<?, ?it/s]"
      ]
     },
     "metadata": {},
     "output_type": "display_data"
    },
    {
     "data": {
      "image/png": "[encoded data removed]",
      "text/plain": [
       "<Figure size 432x288 with 2 Axes>"
      ]
     },
     "metadata": {
      "needs_background": "light"
     },
     "output_type": "display_data"
    },
    {
     "name": "stdout",
     "output_type": "stream",
     "text": [
      "Trafność: 87%\n",
      "Czułość: 0%\n",
      "Swoistość: 92%\n",
      "Zrównoważona trafność (średnia arytmetyczna): 46%\n",
      "Zrównoważona trafność (średnia geometryczna): 0%\n"
     ]
    }
   ],
   "source": [
    "print_analysis(test_images[4], test_masks[4], model, 0.4)"
   ]
  }
 ],
 "metadata": {
  "kernelspec": {
   "display_name": "Python 3 (ipykernel)",
   "language": "python",
   "name": "python3"
  },
  "language_info": {
   "codemirror_mode": {
    "name": "ipython",
    "version": 3
   },
   "file_extension": ".py",
   "mimetype": "text/x-python",
   "name": "python",
   "nbconvert_exporter": "python",
   "pygments_lexer": "ipython3",
   "version": "3.9.7"
  }
 },
 "nbformat": 4,
 "nbformat_minor": 5
}
